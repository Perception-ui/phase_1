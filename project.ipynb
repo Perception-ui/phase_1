{
 "cells": [
  {
   "attachments": {},
   "cell_type": "markdown",
   "metadata": {},
   "source": [
    "# Lights, Data, Strategy: Informing Microsoft's Movie Studio with Box Office Analytics\n",
    "\n",
    "1. Business Understanding\n",
    "a) Introduction.\n",
    "\n",
    "In an effort to tap into the growing trend of original video content and expand its footprint in the entertainment industry, Microsoft has made the strategic decision to establish its own movie studio. However, being new, Microsoft faces the challenge of understanding which types of films perform exceptionally well. To address this challenge, a data driven analysis is necessary to uncover valuable insights that can guide the decision making process regarding the types of films to start working on. \n",
    "\n",
    "The film industry has grown remarkably in recent years, benefiting from technological advancements such as 5G internet, higher quality displays, and smartphones. These new technologies have changed consumer preferences with regards to content access, and in the process companies like Netflix that moved in early to cater to these new appetites benefitted greatly. This shift compelled may tech giants such as Apple and Amazon to venture into movie production, aiming to capitalize on lucrative opportunities the demand presents. Recognizing the potential and profitability, Microsoft seeks to strategically navigate this market, guided by existing data and insights gleaned from it.\n",
    "\n",
    "The primary objective of this analysis is to identify the most successful film genres at the box office, using comprehensive data sets spanning various aspects of the film industry.By examining historical records, genre trends, and audience preferences, we aim to provide actionable insights to the leadership of Microsoft's new movie studio. \n",
    "These insights will guide Microsoft in determining the types of films that are competitive and likely to thrive in this evolving market. \n",
    "\n",
    "Through an in-depth exploration of the available data and the application of analytics techniques, we will uncover valuable patterns, correlations, and market trends. Equipped with these data-driven insights, Microsoft will be better positioned to develop a successful film strategy, compete, and increase their chances of success.\n",
    "\n",
    "b) Defining the metric for success. / Problem statement. \n",
    "\n",
    "Microsoft's new movie studio lacks domain expertise in filmmaking and needs guidance on which film genres to focus on to maximize box office success. Leveraging historical box office data and exploring genre trends, this investigation will guide the choice of films they should produce.\n",
    "To address this problem we will examine datasets containing information on past movie releases, genres, and revenue from these movies. Box office revenues, ROI and ratings data will serve as indicators of financial viability and audience reception across different film genres. These elements will be examined in conjunction with other factors that contribute to a film's success, such as budget, release timing, and target audience demographics to get a more comprehensive understanding of the dynamics that drive box office success. Based on the results of our analysis, we will provide actionable insights and recommendations regarding the film genres that have historically performed well at the box office. These insights will enable Microsoft to align their movie studio's content strategy with audience preferences and market trends and increase the probaility of producing commercially successful films. \n",
    "*** To be reviewed ***\n",
    "The success of our analysis will be measured by the following metrics:\n",
    "\n",
    "Accuracy of genre performance predictions: Our analysis should accurately identify the film genres that have historically performed well at the box office, enabling Microsoft to make informed decisions.\n",
    "\n",
    "Revenue increase: The recommendations and insights derived from our analysis should contribute to an increase in box office revenue for Microsoft's movie studio compared to randomly selecting film genres.\n",
    "\n",
    "Market share growth: Microsoft's movie studio should gain a larger market share within the film industry by producing successful films aligned with audience preferences and market trends.\n",
    "*** reviewed ***\n",
    "\n",
    "c) Main objectives and understaning the context \n"
   ]
  }
 ],
 "metadata": {
  "kernelspec": {
   "display_name": "learn-env",
   "language": "python",
   "name": "python3"
  },
  "language_info": {
   "name": "python",
   "version": "3.10.11"
  },
  "orig_nbformat": 4
 },
 "nbformat": 4,
 "nbformat_minor": 2
}
